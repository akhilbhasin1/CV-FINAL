{
 "cells": [
  {
   "cell_type": "code",
   "execution_count": 1,
   "metadata": {},
   "outputs": [],
   "source": [
    "import cv2\n",
    "import imutils"
   ]
  },
  {
   "cell_type": "code",
   "execution_count": 2,
   "metadata": {},
   "outputs": [],
   "source": [
    "# Initializing the HOG person \n",
    "# detector \n",
    "hog = cv2.HOGDescriptor() \n",
    "hog.setSVMDetector(cv2.HOGDescriptor_getDefaultPeopleDetector())"
   ]
  },
  {
   "cell_type": "code",
   "execution_count": 3,
   "metadata": {},
   "outputs": [],
   "source": [
    "cap = cv2.VideoCapture('crosswalk3.mp4')"
   ]
  },
  {
   "cell_type": "code",
   "execution_count": null,
   "metadata": {},
   "outputs": [],
   "source": []
  },
  {
   "cell_type": "code",
   "execution_count": 4,
   "metadata": {},
   "outputs": [],
   "source": [
    "while cap.isOpened(): \n",
    "    # Reading the video stream \n",
    "    ret, image = cap.read() \n",
    "    if ret: \n",
    "        image = imutils.resize(image,  \n",
    "                               width=min(400, image.shape[1])) \n",
    "   \n",
    "        # Detecting all the regions  \n",
    "        # in the Image that has a  \n",
    "        # pedestrians inside it \n",
    "        (regions, _) = hog.detectMultiScale(image, \n",
    "                                            winStride=(4, 4), \n",
    "                                            padding=(4, 4), \n",
    "                                            scale=1.05) \n",
    "   \n",
    "        # Drawing the regions in the  \n",
    "        # Image \n",
    "        for (x, y, w, h) in regions: \n",
    "            cv2.rectangle(image, (x, y), \n",
    "                          (x + w, y + h),  \n",
    "                          (0, 0, 255), 2) \n",
    "   \n",
    "        # Showing the output Image \n",
    "        cv2.imshow(\"Image\", image) \n",
    "        if cv2.waitKey(25) & 0xFF == ord('q'): \n",
    "            break\n",
    "    else: \n",
    "        break\n",
    "cap.release() \n",
    "cv2.destroyAllWindows()"
   ]
  },
  {
   "cell_type": "code",
   "execution_count": null,
   "metadata": {},
   "outputs": [],
   "source": []
  },
  {
   "cell_type": "code",
   "execution_count": null,
   "metadata": {},
   "outputs": [],
   "source": []
  }
 ],
 "metadata": {
  "kernelspec": {
   "display_name": "Python 3",
   "language": "python",
   "name": "python3"
  },
  "language_info": {
   "codemirror_mode": {
    "name": "ipython",
    "version": 3
   },
   "file_extension": ".py",
   "mimetype": "text/x-python",
   "name": "python",
   "nbconvert_exporter": "python",
   "pygments_lexer": "ipython3",
   "version": "3.8.3"
  }
 },
 "nbformat": 4,
 "nbformat_minor": 4
}
